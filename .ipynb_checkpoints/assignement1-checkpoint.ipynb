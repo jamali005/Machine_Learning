{
 "cells": [
  {
   "cell_type": "markdown",
   "metadata": {
    "colab_type": "text",
    "id": "bKZED9q1hZIY"
   },
   "source": []
  },
  {
   "cell_type": "markdown",
   "metadata": {
    "colab_type": "text",
    "id": "yQ9HYSh31X0Z"
   },
   "source": [
    "## Task 1. (Introduction)\n",
    "Suppose that we have three coloured boxes r (red), b (blue), and g (green).\n",
    "\n",
    "- Box r contains 3 apples, 4 oranges, and 3 limes, \n",
    "- Box b contains 1 apple, 1 orange, and 0 limes, and \n",
    "- Box g contains 3 apples, 3 oranges, and 4 limes. \n",
    "\n",
    "If a box is chosen at random with probabilities p(r) = 0.2, p(b) = 0.2, p(g) = 0.6, and a piece of\n",
    "fruit is removed from the box (with equal probability of selecting any of the items in\n",
    "the box), then what is the probability of selecting an apple? \n",
    "\n",
    "If we observe that the selected fruit is in fact an orange, what is the probability that it came from the green\n",
    "box?"
   ]
  },
  {
   "cell_type": "markdown",
   "metadata": {
    "colab_type": "text",
    "id": "h8GoG2MMH0EX"
   },
   "source": [
    "# Red Box: \n",
    "####  a = 3 Appels \n",
    "####  o = 4 Oranges\n",
    "####  l = 3 Limes\n",
    "# Blue Box: \n",
    "####  a = 1 Appel \n",
    "####  o = 1 Orange\n",
    "####  l = 0 Lime\n",
    "  # Green Box: \n",
    "####  a = 3 Appels \n",
    "####  o = 4 Oranges\n",
    "####  l = 3 Limes\n",
    "\n",
    "$$ P(R)=0.2 \\\\\n",
    "P(B)=0.2\\\\\n",
    "P(G)=0.6 $$\n",
    "## with equal probability of selecting any of the items in the box\n",
    "$P(A)=P(A \\cap R) +P(A \\cap B)+P(A \\cap G)$\n",
    "### condition probability: \n",
    "$P(A|B)= \\frac{P(A \\cap B)}{P(B)}$ \n",
    "#### so\n",
    "$P(A)= P(A|R)*P(R)+P(A|B)*P(A|G)*P(G)$\n",
    "$P(A)=0.34$\n",
    "## 2 question : we observe that the selected fruit is, in fact, an orange, what is the probability that it came from the green box?\n",
    "$P(G|O)= \\frac{P(O \\cap G)}{P(O)}$\n",
    "\n",
    "$P(O)=P(O \\cap R) +P(O \\cap B)+P(O \\cap G)$\n",
    "\n",
    "$P(O)= P(O|R)*P(R)+P(O|B)*P(O|G)*P(G)$\n",
    "\n",
    "#### and\n",
    "\n",
    "$P(O \\cap G)=P(O|G)*P(G) $\n",
    "$P(G|O)= \\frac{P(O|G)*P(G)}{P(O|R)*P(R)+P(O|B)*P(O|G)*P(G)}$  \n",
    "$P(G|O)=0.50$"
   ]
  },
  {
   "cell_type": "markdown",
   "metadata": {
    "colab_type": "text",
    "id": "ePo70dQH1X0c"
   },
   "source": [
    "## Task 2. (Introduction)\n",
    "Consider a Gaussian distribution $p_x(x)$ over x with mean μ = 6 and\n",
    "standard deviation $\\sigma$ = 1. Plot this distribution.  \n",
    "Next, draw a sample of N = 50000 points from this distribution and plot a histogram of their\n",
    "values, which as expected agrees with the distribution $p_x(x)$.  \n",
    "Now consider a non-linear change of variables from x to y given by  \n",
    "$x=g(y)=ln(y)-ln(1-y)+5$  \n",
    "The inverse of this function is given by  \n",
    "$y=g^{-1}(x)=\\frac{1}{1+exp(-x+5)}$  \n",
    "which is a logistic sigmoid function. Plot this function in the same Figure.  \n",
    "Plot the curve $p_x(g(y))$ that is a transformation of $p_x(x)$ as a function of x $p_x(g(y))$ "
   ]
  },
  {
   "cell_type": "code",
   "execution_count": 0,
   "metadata": {
    "colab": {},
    "colab_type": "code",
    "id": "a1jPkYV3eS0o"
   },
   "outputs": [],
   "source": [
    "import matplotlib.pyplot as plt\n",
    "import numpy as np\n",
    "import math\n",
    "import scipy.stats as stats\n",
    "%matplotlib inline"
   ]
  },
  {
   "cell_type": "markdown",
   "metadata": {
    "colab_type": "text",
    "id": "GWEO9R21fpU_"
   },
   "source": [
    "### 1- Consider a Gaussian distribution px(x)px(x) over x with mean μ = 6 and standard deviation σσ = 1. Plot this distribution."
   ]
  },
  {
   "cell_type": "code",
   "execution_count": 0,
   "metadata": {
    "colab": {
     "base_uri": "https://localhost:8080/",
     "height": 269
    },
    "colab_type": "code",
    "executionInfo": {
     "elapsed": 776,
     "status": "ok",
     "timestamp": 1570288477243,
     "user": {
      "displayName": "Hatim JAMALI",
      "photoUrl": "",
      "userId": "12031217391056068623"
     },
     "user_tz": -120
    },
    "id": "1tYHrXPFeKJo",
    "outputId": "58bea97b-6b16-4c38-fb12-2119f1d57efc"
   },
   "outputs": [
    {
     "data": {
      "image/png": "[encoded data removed]",
      "text/plain": [
       "<Figure size 432x288 with 1 Axes>"
      ]
     },
     "metadata": {
      "tags": []
     },
     "output_type": "display_data"
    }
   ],
   "source": [
    "mean = 6\n",
    "standard_deviation = 1\n",
    "x = np.linspace(mean - 3, mean + 3, 100)\n",
    "plt.plot(x, stats.norm.pdf(x, mean, standard_deviation))\n",
    "plt.show()"
   ]
  },
  {
   "cell_type": "markdown",
   "metadata": {
    "colab_type": "text",
    "id": "hYMAXZ2Jf52i"
   },
   "source": [
    "###**2**- Next, draw a sample of N = 50000 points from this distribution and plot a histogram of their values, which as expected agrees with the distribution  $p_x(x)$."
   ]
  },
  {
   "cell_type": "code",
   "execution_count": 0,
   "metadata": {
    "colab": {
     "base_uri": "https://localhost:8080/",
     "height": 338
    },
    "colab_type": "code",
    "executionInfo": {
     "elapsed": 986,
     "status": "ok",
     "timestamp": 1570288509471,
     "user": {
      "displayName": "Hatim JAMALI",
      "photoUrl": "",
      "userId": "12031217391056068623"
     },
     "user_tz": -120
    },
    "id": "F19p46YcfLUA",
    "outputId": "50d54c3d-551b-4f7a-ec02-a2e073c4c1d5"
   },
   "outputs": [
    {
     "name": "stderr",
     "output_type": "stream",
     "text": [
      "/usr/local/lib/python3.6/dist-packages/matplotlib/axes/_axes.py:6521: MatplotlibDeprecationWarning: \n",
      "The 'normed' kwarg was deprecated in Matplotlib 2.1 and will be removed in 3.1. Use 'density' instead.\n",
      "  alternative=\"'density'\", removal=\"3.1\")\n"
     ]
    },
    {
     "data": {
      "text/plain": [
       "Text(0, 0.5, 'Probability')"
      ]
     },
     "execution_count": 7,
     "metadata": {
      "tags": []
     },
     "output_type": "execute_result"
    },
    {
     "data": {
      "image/png": "[encoded data removed]",
      "text/plain": [
       "<Figure size 432x288 with 1 Axes>"
      ]
     },
     "metadata": {
      "tags": []
     },
     "output_type": "display_data"
    }
   ],
   "source": [
    "\n",
    "x = np.random.normal(mean,standard_deviation,size = 50000)\n",
    "plt.hist(x, normed=True, bins=100)\n",
    "plt.ylabel('Probability')"
   ]
  },
  {
   "cell_type": "markdown",
   "metadata": {
    "colab_type": "text",
    "id": "Uh_V4qEigvqX"
   },
   "source": [
    "###3- Plot this function in the same Figure."
   ]
  },
  {
   "cell_type": "code",
   "execution_count": 0,
   "metadata": {
    "colab": {},
    "colab_type": "code",
    "id": "ghaj-OrsfXcR"
   },
   "outputs": [],
   "source": [
    "def sigmoid(x):\n",
    "    return 1 / (1 + math.exp(-x))\n",
    "\n",
    "funcSigmoid = np.vectorize(sigmoid)"
   ]
  },
  {
   "cell_type": "code",
   "execution_count": 0,
   "metadata": {
    "colab": {},
    "colab_type": "code",
    "id": "OXYd8ZZufarv"
   },
   "outputs": [],
   "source": [
    "import math\n",
    "\n",
    "def g(x):\n",
    "    return (math.log2(x) + math.log2(1-x) + 5)\n",
    "\n",
    "funcG = np.vectorize(g)"
   ]
  },
  {
   "cell_type": "code",
   "execution_count": 0,
   "metadata": {
    "colab": {
     "base_uri": "https://localhost:8080/",
     "height": 269
    },
    "colab_type": "code",
    "executionInfo": {
     "elapsed": 866,
     "status": "ok",
     "timestamp": 1570288561530,
     "user": {
      "displayName": "Hatim JAMALI",
      "photoUrl": "",
      "userId": "12031217391056068623"
     },
     "user_tz": -120
    },
    "id": "MXpAIhc8fb8g",
    "outputId": "18f74b4b-1bcf-43b1-f962-764c27d368f3"
   },
   "outputs": [
    {
     "data": {
      "image/png": "[encoded data removed]",
      "text/plain": [
       "<Figure size 432x288 with 1 Axes>"
      ]
     },
     "metadata": {
      "tags": []
     },
     "output_type": "display_data"
    }
   ],
   "source": [
    "x = np.linspace(0.1, 0.9, 100)\n",
    "\n",
    "plt.plot(x,funcG(x),'g')         \n",
    "plt.plot(x,funcSigmoid(x),'b')\n",
    "\n",
    "plt.show()"
   ]
  },
  {
   "cell_type": "markdown",
   "metadata": {
    "colab_type": "text",
    "id": "r5vDjZ0zgy0O"
   },
   "source": [
    "### 4- Plot the curve $p_x(g(y))$ that is a transformation of $p_x(x)$ as a function of x $p_x(g(y))$ "
   ]
  },
  {
   "cell_type": "code",
   "execution_count": 0,
   "metadata": {
    "colab": {
     "base_uri": "https://localhost:8080/",
     "height": 269
    },
    "colab_type": "code",
    "executionInfo": {
     "elapsed": 766,
     "status": "ok",
     "timestamp": 1570288575163,
     "user": {
      "displayName": "Hatim JAMALI",
      "photoUrl": "",
      "userId": "12031217391056068623"
     },
     "user_tz": -120
    },
    "id": "ASxmROahfheX",
    "outputId": "0cb77402-54b9-4227-b95e-e754331f7386"
   },
   "outputs": [
    {
     "data": {
      "image/png": "[encoded data removed]",
      "text/plain": [
       "<Figure size 432x288 with 1 Axes>"
      ]
     },
     "metadata": {
      "tags": []
     },
     "output_type": "display_data"
    }
   ],
   "source": [
    "x = np.linspace(0.1, 0.9, 100)\n",
    "Y = funcG(x)\n",
    "\n",
    "plt.plot(x, x*stats.norm.pdf(Y, mean, standard_deviation))\n",
    "plt.show()"
   ]
  }
 ],
 "metadata": {
  "colab": {
   "collapsed_sections": [],
   "name": "Introduction_Homework.ipynb",
   "provenance": []
  },
  "kernelspec": {
   "display_name": "Python 3",
   "language": "python",
   "name": "python3"
  },
  "language_info": {
   "codemirror_mode": {
    "name": "ipython",
    "version": 3
   },
   "file_extension": ".py",
   "mimetype": "text/x-python",
   "name": "python",
   "nbconvert_exporter": "python",
   "pygments_lexer": "ipython3",
   "version": "3.6.9"
  }
 },
 "nbformat": 4,
 "nbformat_minor": 1
}
